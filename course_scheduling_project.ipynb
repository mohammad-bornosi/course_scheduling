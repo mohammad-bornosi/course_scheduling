{
 "cells": [
  {
   "cell_type": "code",
   "execution_count": 1,
   "id": "ba7db849",
   "metadata": {},
   "outputs": [],
   "source": [
    "import pandas as pd\n",
    "import os\n",
    "import numpy as np"
   ]
  },
  {
   "cell_type": "code",
   "execution_count": 2,
   "id": "f332d15e",
   "metadata": {},
   "outputs": [],
   "source": [
    "BASE_DIR = \"C:\\\\Users\\\\Mohamadreza.a\\\\Downloads\\\\course_scheduling\""
   ]
  },
  {
   "cell_type": "code",
   "execution_count": 3,
   "id": "dff21cf7",
   "metadata": {},
   "outputs": [],
   "source": [
    "# reading sets "
   ]
  },
  {
   "cell_type": "code",
   "execution_count": 4,
   "id": "8696f5c9",
   "metadata": {},
   "outputs": [],
   "source": [
    "sets_data= pd.read_excel(\n",
    "     io = os.path.join(BASE_DIR, \"assg_3.xlsx\"),\n",
    "     sheet_name = 'Sets',\n",
    "     engine='openpyxl'\n",
    ")\n"
   ]
  },
  {
   "cell_type": "code",
   "execution_count": 5,
   "id": "1ce6fbc3",
   "metadata": {},
   "outputs": [],
   "source": [
    "p_dataframe = sets_data['p']\n",
    "p_dataframe = p_dataframe.dropna()\n",
    "p_dataframe = p_dataframe.astype(int)\n",
    "\n",
    "c_dataframe = sets_data['c']\n",
    "c_dataframe = c_dataframe.dropna()\n",
    "c_dataframe = c_dataframe.astype(int)\n",
    "\n",
    "j_dataframe = sets_data['j']\n",
    "j_dataframe = j_dataframe.dropna()\n",
    "j_dataframe = j_dataframe.astype(int)\n",
    "\n",
    "d_dataframe = sets_data['d']\n",
    "d_dataframe = d_dataframe.dropna()\n",
    "d_dataframe = d_dataframe.astype(int)\n",
    "\n",
    "h_dataframe = sets_data['h']\n",
    "h_dataframe = h_dataframe.dropna()\n",
    "h_dataframe = h_dataframe.astype(int)\n"
   ]
  },
  {
   "cell_type": "code",
   "execution_count": 6,
   "id": "06d9d4c8",
   "metadata": {},
   "outputs": [],
   "source": [
    "import gams\n",
    "ws = gams.workspace.GamsWorkspace(working_directory = BASE_DIR)\n",
    "db = ws.add_database()"
   ]
  },
  {
   "cell_type": "code",
   "execution_count": 7,
   "id": "59961649",
   "metadata": {},
   "outputs": [],
   "source": [
    "# adding sets to workspace"
   ]
  },
  {
   "cell_type": "code",
   "execution_count": 8,
   "id": "ba68107d",
   "metadata": {},
   "outputs": [],
   "source": [
    "j_array = j_dataframe.to_numpy(dtype = str)\n",
    "j_set = db.add_set('j', 1)\n",
    "for jp in j_array:\n",
    "    j_set.add_record(jp)\n",
    "\n",
    "c_array = c_dataframe.to_numpy(dtype = str)   \n",
    "c_set = db.add_set('c', 1)\n",
    "for cp in c_array:\n",
    "    c_set.add_record(cp)\n",
    "\n",
    "p_array = p_dataframe.to_numpy(dtype = str)    \n",
    "p_set = db.add_set('p', 1)\n",
    "for pp in p_array:\n",
    "    p_set.add_record(pp)\n",
    "\n",
    "d_array = d_dataframe.to_numpy(dtype = str)    \n",
    "d_set = db.add_set('d', 1)\n",
    "for dp in d_array:\n",
    "    d_set.add_record(dp)\n",
    "    \n",
    "\n",
    "h_array = h_dataframe.to_numpy(dtype = str)\n",
    "h_set = db.add_set('h', 1)\n",
    "for hp in h_array:\n",
    "    h_set.add_record(hp)\n",
    "    \n",
    "\n"
   ]
  },
  {
   "cell_type": "code",
   "execution_count": 9,
   "id": "06fbf898",
   "metadata": {},
   "outputs": [],
   "source": [
    "# read parameters and add to workspace"
   ]
  },
  {
   "cell_type": "code",
   "execution_count": 10,
   "id": "0a7effc9",
   "metadata": {},
   "outputs": [],
   "source": [
    "parameter_a = np.zeros(shape = (len(c_array),len(p_array)))\n",
    "parameter_a_dict = {} \n",
    "parameter_a_data = pd.read_excel(\n",
    "     io = os.path.join(BASE_DIR, \"assg_3.xlsx\"),\n",
    "     sheet_name = 'A',\n",
    "     engine='openpyxl'\n",
    ")\n",
    "p_indices = parameter_a_data['p']\n",
    "p_indices = p_indices.dropna()\n",
    "p_indices = p_indices.astype(str).to_numpy()\n",
    "\n",
    "c_indices = parameter_a_data['c']\n",
    "c_indices = c_indices.dropna()\n",
    "c_indices = c_indices.astype(str).to_numpy()\n",
    "\n",
    "a_data = parameter_a_data['a(c,p)']\n",
    "a_data = a_data.dropna()\n",
    "a_data = a_data.astype(str).to_numpy()\n",
    "\n",
    "for c_index, p_index, correlated_data in zip(c_indices, p_indices, a_data):\n",
    "    parameter_a[int(c_index)-1][int(p_index)-1] = float(correlated_data)         \n",
    "\n",
    "for i in range(parameter_a.shape[0]):\n",
    "    for j in range(parameter_a.shape[1]):\n",
    "        parameter_a_dict.setdefault( (str(i+1), str(j+1) ), parameter_a[i][j])"
   ]
  },
  {
   "cell_type": "code",
   "execution_count": 11,
   "id": "6ee723e1",
   "metadata": {},
   "outputs": [],
   "source": [
    "a = db.add_parameter_dc('a', [c_set , p_set])\n",
    "for cp in c_array:\n",
    "    for pp in p_array :\n",
    "        a.add_record((cp, pp)).value = parameter_a_dict[(cp,pp)]"
   ]
  },
  {
   "cell_type": "code",
   "execution_count": 12,
   "id": "c1802c45",
   "metadata": {},
   "outputs": [],
   "source": [
    "parameter_t = np.zeros(shape = (len(h_array),len(h_array)))\n",
    "parameter_t_dict = {} \n",
    "parameter_t_data = pd.read_excel(\n",
    "     io = os.path.join(BASE_DIR, \"assg_3.xlsx\"),\n",
    "     sheet_name = 'T',\n",
    "     engine='openpyxl'\n",
    ")\n",
    "h_indices = parameter_t_data['h']\n",
    "h_indices = h_indices.dropna()\n",
    "h_indices = h_indices.astype(str).to_numpy()\n",
    "\n",
    "h_prime_indices = parameter_t_data['h_prime']\n",
    "h_prime_indices = h_prime_indices.dropna()\n",
    "h_prime_indices = h_prime_indices.astype(str).to_numpy()\n",
    "\n",
    "\n",
    "t_data = parameter_t_data['t(h,h_prime)']\n",
    "t_data = t_data.dropna()\n",
    "t_data = t_data.astype(str).to_numpy()\n",
    "\n",
    "for h_index, h_prime_index, correlated_data in zip(h_indices, h_prime_indices, t_data):\n",
    "    parameter_t[int(h_index)-1][int(h_index)-1] = int(correlated_data)         \n",
    "\n",
    "for i in range(parameter_t.shape[0]):\n",
    "    for j in range(parameter_t.shape[1]):\n",
    "        parameter_t_dict.setdefault( (str(i+1), str(j+1) ), parameter_t[i][j])"
   ]
  },
  {
   "cell_type": "code",
   "execution_count": 13,
   "id": "0ca6208e",
   "metadata": {},
   "outputs": [],
   "source": [
    "t=db.add_parameter_dc('t',[h_set , h_set])\n",
    "for hp in h_array:\n",
    "    for hpp in h_array :\n",
    "        t.add_record((hp, hpp)).value = parameter_t_dict[(hp,hpp)]"
   ]
  },
  {
   "cell_type": "code",
   "execution_count": 14,
   "id": "f08e5f25",
   "metadata": {},
   "outputs": [],
   "source": [
    "parameter_n = np.zeros(shape = len(c_array))\n",
    "parameter_n_dict = {} \n",
    "parameter_n_data = pd.read_excel(\n",
    "     io = os.path.join(BASE_DIR, \"assg_3.xlsx\"),\n",
    "     sheet_name = 'N',\n",
    "     engine='openpyxl'\n",
    ")\n",
    "c_indices = parameter_n_data['c']\n",
    "c_indices = c_indices.dropna()\n",
    "c_indices = c_indices.astype(str).to_numpy()\n",
    "\n",
    "\n",
    "n_data = parameter_n_data['n(c)']\n",
    "n_data = n_data.dropna()\n",
    "n_data = n_data.astype(str).to_numpy()\n",
    "\n",
    "for c_index, correlated_data in zip(c_indices, n_data):\n",
    "    parameter_n[int(c_index)-1] = int(correlated_data)         \n",
    "\n",
    "for i in range(parameter_n.shape[0]):\n",
    "    parameter_n_dict.setdefault(str(i+1), parameter_n[i])"
   ]
  },
  {
   "cell_type": "code",
   "execution_count": 15,
   "id": "24bda85d",
   "metadata": {},
   "outputs": [],
   "source": [
    "n = db.add_parameter_dc('n', [c_set])\n",
    "for cp in c_array:\n",
    "    n.add_record(cp).value = parameter_n_dict[cp]"
   ]
  },
  {
   "cell_type": "code",
   "execution_count": 16,
   "id": "bf962870",
   "metadata": {},
   "outputs": [],
   "source": [
    "parameter_s = np.zeros(shape = (len(j_array),len(c_array)))\n",
    "parameter_s_dict = {} \n",
    "parameter_s_data = pd.read_excel(\n",
    "     io = os.path.join(BASE_DIR, \"assg_3.xlsx\"),\n",
    "     sheet_name = 'S',\n",
    "     engine='openpyxl'\n",
    ")\n",
    "j_indices = parameter_s_data['j']\n",
    "j_indices = j_indices.dropna()\n",
    "j_indices = j_indices.astype(str).to_numpy()\n",
    "\n",
    "c_indices = parameter_s_data['c']\n",
    "c_indices = c_indices.dropna()\n",
    "c_indices = c_indices.astype(str).to_numpy()\n",
    "\n",
    "\n",
    "s_data = parameter_s_data['s(j,c)']\n",
    "s_data = s_data.dropna()\n",
    "s_data = s_data.astype(str).to_numpy()\n",
    "\n",
    "for j_index, c_index, correlated_data in zip(j_indices, c_indices, s_data):\n",
    "    parameter_s[int(j_index)-1][int(c_index)-1] = int(correlated_data)         \n",
    "\n",
    "for i in range(parameter_s.shape[0]):\n",
    "    for j in range(parameter_s.shape[1]):\n",
    "        parameter_s_dict.setdefault( (str(i+1), str(j+1) ), parameter_s[i][j])"
   ]
  },
  {
   "cell_type": "code",
   "execution_count": 17,
   "id": "a9829b84",
   "metadata": {},
   "outputs": [],
   "source": [
    "s = db.add_parameter_dc('s', [j_set , c_set])\n",
    "for jp in j_array:\n",
    "    for cp in c_array :\n",
    "        s.add_record((jp, cp)).value = parameter_s_dict[(jp,cp)]"
   ]
  },
  {
   "cell_type": "code",
   "execution_count": 18,
   "id": "6e355449",
   "metadata": {},
   "outputs": [],
   "source": [
    "parameter_b = np.zeros(shape = (len(p_array),len(d_array),len(h_array)))\n",
    "parameter_b_dict = {} \n",
    "parameter_b_data = pd.read_excel(\n",
    "     io = os.path.join(BASE_DIR, \"assg_3.xlsx\"),\n",
    "     sheet_name = 'B',\n",
    "     engine='openpyxl'\n",
    ")\n",
    "p_indices = parameter_b_data['p']\n",
    "p_indices = p_indices.dropna()\n",
    "p_indices = p_indices.astype(str).to_numpy()\n",
    "\n",
    "d_indices = parameter_b_data['d']\n",
    "d_indices = d_indices.dropna()\n",
    "d_indices = d_indices.astype(str).to_numpy()\n",
    "\n",
    "h_indices = parameter_b_data['h']\n",
    "h_indices = h_indices.dropna()\n",
    "h_indices = h_indices.astype(str).to_numpy()\n",
    "\n",
    "\n",
    "b_data = parameter_b_data['b(p,d,h)']\n",
    "b_data = b_data.dropna()\n",
    "b_data = b_data.astype(str).to_numpy()\n",
    "\n",
    "for p_index, d_index, h_index, correlated_data in zip(p_indices, d_indices, h_indices, b_data):\n",
    "    parameter_b[int(p_index)-1][int(d_index)-1][int(h_index)-1] = int(correlated_data)         \n",
    "\n",
    "for i in range(parameter_b.shape[0]):\n",
    "    for j in range(parameter_b.shape[1]):\n",
    "        for k in range(parameter_b.shape[2]):\n",
    "            parameter_b_dict.setdefault( (str(i+1), str(j+1), (str(k+1) )), parameter_b[i][j][k])"
   ]
  },
  {
   "cell_type": "code",
   "execution_count": 19,
   "id": "8f973b64",
   "metadata": {},
   "outputs": [],
   "source": [
    "b = db.add_parameter_dc('b', [p_set,d_set,h_set])\n",
    "for pp in p_array:\n",
    "    for dp in d_array:\n",
    "        for hp in h_array :\n",
    "            b.add_record((pp,dp,hp)).value = parameter_b_dict[(pp,dp,hp)]\n",
    "    \n"
   ]
  },
  {
   "cell_type": "code",
   "execution_count": 20,
   "id": "70fe0176",
   "metadata": {},
   "outputs": [],
   "source": [
    "#define scalars and add to workspace"
   ]
  },
  {
   "cell_type": "code",
   "execution_count": 22,
   "id": "0e1104bb",
   "metadata": {},
   "outputs": [
    {
     "data": {
      "text/plain": [
       "<gams.database.GamsSetRecord at 0x29810ea6198>"
      ]
     },
     "execution_count": 22,
     "metadata": {},
     "output_type": "execute_result"
    }
   ],
   "source": [
    "scalar = db.add_set('sca', 1)\n",
    "scalar.add_record(str(1))"
   ]
  },
  {
   "cell_type": "code",
   "execution_count": 23,
   "id": "e8f6af32",
   "metadata": {},
   "outputs": [],
   "source": [
    "k = db.add_parameter_dc('k', [scalar])\n",
    "k.add_record(str(1)).value = 2\n",
    "\n",
    "dlast = db.add_parameter_dc('dlast', [scalar])\n",
    "dlast.add_record(str(1)).value = 5\n",
    "             \n",
    "hbar = db.add_parameter_dc('hbar', [scalar])\n",
    "hbar.add_record(str(1)).value = 3"
   ]
  },
  {
   "cell_type": "code",
   "execution_count": 24,
   "id": "7fa704fd",
   "metadata": {},
   "outputs": [],
   "source": [
    "db.export('C:\\\\Users\\\\Mohamadreza.a\\\\Downloads\\\\course_scheduling\\\\data.gdx')"
   ]
  },
  {
   "cell_type": "code",
   "execution_count": 48,
   "id": "af5fe9db",
   "metadata": {},
   "outputs": [
    {
     "ename": "GamsExceptionExecution",
     "evalue": "GAMS return code not 0 (7), check C:\\Users\\Lenovo\\Documents\\GAMSStudio\\workspace\\course_scheduling_project\\_gams_py_gjo0.lst for more details",
     "output_type": "error",
     "traceback": [
      "\u001b[1;31m---------------------------------------------------------------------------\u001b[0m",
      "\u001b[1;31mGamsExceptionExecution\u001b[0m                    Traceback (most recent call last)",
      "\u001b[1;32m<ipython-input-48-127004ad1e36>\u001b[0m in \u001b[0;36m<module>\u001b[1;34m\u001b[0m\n\u001b[0;32m      1\u001b[0m \u001b[0mmodel\u001b[0m \u001b[1;33m=\u001b[0m \u001b[0mws\u001b[0m\u001b[1;33m.\u001b[0m\u001b[0madd_job_from_file\u001b[0m\u001b[1;33m(\u001b[0m\u001b[0mos\u001b[0m\u001b[1;33m.\u001b[0m\u001b[0mpath\u001b[0m\u001b[1;33m.\u001b[0m\u001b[0mjoin\u001b[0m\u001b[1;33m(\u001b[0m\u001b[0mBASE_DIR\u001b[0m\u001b[1;33m,\u001b[0m\u001b[1;34m\"course_scheduling_final.gms\"\u001b[0m\u001b[1;33m)\u001b[0m\u001b[1;33m)\u001b[0m\u001b[1;33m\u001b[0m\u001b[1;33m\u001b[0m\u001b[0m\n\u001b[1;32m----> 2\u001b[1;33m \u001b[0mmodel\u001b[0m\u001b[1;33m.\u001b[0m\u001b[0mrun\u001b[0m\u001b[1;33m(\u001b[0m\u001b[1;33m)\u001b[0m\u001b[1;33m\u001b[0m\u001b[1;33m\u001b[0m\u001b[0m\n\u001b[0m",
      "\u001b[1;32m~\\miniconda3\\envs\\gmsjupyter\\lib\\site-packages\\gams\\execution.pyd\u001b[0m in \u001b[0;36mgams.execution.GamsJob.run (execution.c:22303)\u001b[1;34m()\u001b[0m\n",
      "\u001b[1;31mGamsExceptionExecution\u001b[0m: GAMS return code not 0 (7), check C:\\Users\\Lenovo\\Documents\\GAMSStudio\\workspace\\course_scheduling_project\\_gams_py_gjo0.lst for more details"
     ]
    }
   ],
   "source": [
    "model = ws.add_job_from_file(os.path.join(BASE_DIR,\"course_scheduling_final.gms\"))\n",
    "model.run()"
   ]
  },
  {
   "cell_type": "code",
   "execution_count": 49,
   "id": "a3db3b0a",
   "metadata": {},
   "outputs": [
    {
     "ename": "TypeError",
     "evalue": "'NoneType' object is not subscriptable",
     "output_type": "error",
     "traceback": [
      "\u001b[1;31m---------------------------------------------------------------------------\u001b[0m",
      "\u001b[1;31mTypeError\u001b[0m                                 Traceback (most recent call last)",
      "\u001b[1;32m<ipython-input-49-955ffcef874a>\u001b[0m in \u001b[0;36m<module>\u001b[1;34m\u001b[0m\n\u001b[1;32m----> 1\u001b[1;33m \u001b[1;32mfor\u001b[0m \u001b[0mrec\u001b[0m \u001b[1;32min\u001b[0m \u001b[0mmodel\u001b[0m\u001b[1;33m.\u001b[0m\u001b[0mout_db\u001b[0m\u001b[1;33m[\u001b[0m\u001b[1;34m'z'\u001b[0m\u001b[1;33m]\u001b[0m\u001b[1;33m:\u001b[0m\u001b[1;33m\u001b[0m\u001b[1;33m\u001b[0m\u001b[0m\n\u001b[0m\u001b[0;32m      2\u001b[0m     \u001b[0mprint\u001b[0m\u001b[1;33m(\u001b[0m\u001b[0mrec\u001b[0m\u001b[1;33m.\u001b[0m\u001b[0mlevel\u001b[0m\u001b[1;33m)\u001b[0m\u001b[1;33m\u001b[0m\u001b[1;33m\u001b[0m\u001b[0m\n",
      "\u001b[1;31mTypeError\u001b[0m: 'NoneType' object is not subscriptable"
     ]
    }
   ],
   "source": [
    "for rec in model.out_db['z']:\n",
    "    print(rec.level)"
   ]
  },
  {
   "cell_type": "code",
   "execution_count": 50,
   "id": "f009eefb",
   "metadata": {},
   "outputs": [
    {
     "ename": "TypeError",
     "evalue": "'NoneType' object is not subscriptable",
     "output_type": "error",
     "traceback": [
      "\u001b[1;31m---------------------------------------------------------------------------\u001b[0m",
      "\u001b[1;31mTypeError\u001b[0m                                 Traceback (most recent call last)",
      "\u001b[1;32m<ipython-input-50-9cd90a09fc09>\u001b[0m in \u001b[0;36m<module>\u001b[1;34m\u001b[0m\n\u001b[1;32m----> 1\u001b[1;33m \u001b[1;32mfor\u001b[0m \u001b[0mrec\u001b[0m \u001b[1;32min\u001b[0m \u001b[0mmodel\u001b[0m\u001b[1;33m.\u001b[0m\u001b[0mout_db\u001b[0m\u001b[1;33m[\u001b[0m\u001b[1;34m'x'\u001b[0m\u001b[1;33m]\u001b[0m\u001b[1;33m:\u001b[0m\u001b[1;33m\u001b[0m\u001b[1;33m\u001b[0m\u001b[0m\n\u001b[0m\u001b[0;32m      2\u001b[0m     \u001b[0mprint\u001b[0m\u001b[1;33m(\u001b[0m\u001b[0mrec\u001b[0m\u001b[1;33m.\u001b[0m\u001b[0mkey\u001b[0m\u001b[1;33m(\u001b[0m\u001b[1;36m0\u001b[0m\u001b[1;33m)\u001b[0m\u001b[1;33m,\u001b[0m\u001b[1;34m\"\\t\"\u001b[0m\u001b[1;33m,\u001b[0m \u001b[0mrec\u001b[0m\u001b[1;33m.\u001b[0m\u001b[0mkey\u001b[0m\u001b[1;33m(\u001b[0m\u001b[1;36m1\u001b[0m\u001b[1;33m)\u001b[0m\u001b[1;33m,\u001b[0m\u001b[1;34m\"\\t\"\u001b[0m\u001b[1;33m,\u001b[0m \u001b[0mrec\u001b[0m\u001b[1;33m.\u001b[0m\u001b[0mkey\u001b[0m\u001b[1;33m(\u001b[0m\u001b[1;36m2\u001b[0m\u001b[1;33m)\u001b[0m\u001b[1;33m,\u001b[0m\u001b[1;34m\"\\t\"\u001b[0m\u001b[1;33m,\u001b[0m\u001b[0mrec\u001b[0m\u001b[1;33m.\u001b[0m\u001b[0mlevel\u001b[0m\u001b[1;33m)\u001b[0m\u001b[1;33m\u001b[0m\u001b[1;33m\u001b[0m\u001b[0m\n",
      "\u001b[1;31mTypeError\u001b[0m: 'NoneType' object is not subscriptable"
     ]
    }
   ],
   "source": [
    "for rec in model.out_db['x']:\n",
    "    print(rec.key(0),\"\\t\", rec.key(1),\"\\t\", rec.key(2),\"\\t\",rec.level)"
   ]
  },
  {
   "cell_type": "code",
   "execution_count": 51,
   "id": "e3b69faa",
   "metadata": {},
   "outputs": [
    {
     "ename": "TypeError",
     "evalue": "'NoneType' object is not subscriptable",
     "output_type": "error",
     "traceback": [
      "\u001b[1;31m---------------------------------------------------------------------------\u001b[0m",
      "\u001b[1;31mTypeError\u001b[0m                                 Traceback (most recent call last)",
      "\u001b[1;32m<ipython-input-51-cf5fb30e4889>\u001b[0m in \u001b[0;36m<module>\u001b[1;34m\u001b[0m\n\u001b[1;32m----> 1\u001b[1;33m \u001b[1;32mfor\u001b[0m \u001b[0mrec\u001b[0m \u001b[1;32min\u001b[0m \u001b[0mmodel\u001b[0m\u001b[1;33m.\u001b[0m\u001b[0mout_db\u001b[0m\u001b[1;33m[\u001b[0m\u001b[1;34m'w'\u001b[0m\u001b[1;33m]\u001b[0m\u001b[1;33m:\u001b[0m\u001b[1;33m\u001b[0m\u001b[1;33m\u001b[0m\u001b[0m\n\u001b[0m\u001b[0;32m      2\u001b[0m     \u001b[0mprint\u001b[0m\u001b[1;33m(\u001b[0m\u001b[0mrec\u001b[0m\u001b[1;33m.\u001b[0m\u001b[0mkey\u001b[0m\u001b[1;33m(\u001b[0m\u001b[1;36m0\u001b[0m\u001b[1;33m)\u001b[0m\u001b[1;33m,\u001b[0m\u001b[1;34m\"\\t\"\u001b[0m\u001b[1;33m,\u001b[0m\u001b[0mrec\u001b[0m\u001b[1;33m.\u001b[0m\u001b[0mlevel\u001b[0m\u001b[1;33m)\u001b[0m\u001b[1;33m\u001b[0m\u001b[1;33m\u001b[0m\u001b[0m\n",
      "\u001b[1;31mTypeError\u001b[0m: 'NoneType' object is not subscriptable"
     ]
    }
   ],
   "source": [
    "for rec in model.out_db['w']:\n",
    "    print(rec.key(0),\"\\t\",rec.level)"
   ]
  },
  {
   "cell_type": "code",
   "execution_count": 52,
   "id": "b9adbe7b",
   "metadata": {},
   "outputs": [
    {
     "ename": "TypeError",
     "evalue": "'NoneType' object is not subscriptable",
     "output_type": "error",
     "traceback": [
      "\u001b[1;31m---------------------------------------------------------------------------\u001b[0m",
      "\u001b[1;31mTypeError\u001b[0m                                 Traceback (most recent call last)",
      "\u001b[1;32m<ipython-input-52-1b4b46b88250>\u001b[0m in \u001b[0;36m<module>\u001b[1;34m\u001b[0m\n\u001b[1;32m----> 1\u001b[1;33m \u001b[1;32mfor\u001b[0m \u001b[0mrec\u001b[0m \u001b[1;32min\u001b[0m \u001b[0mmodel\u001b[0m\u001b[1;33m.\u001b[0m\u001b[0mout_db\u001b[0m\u001b[1;33m[\u001b[0m\u001b[1;34m'v'\u001b[0m\u001b[1;33m]\u001b[0m\u001b[1;33m:\u001b[0m\u001b[1;33m\u001b[0m\u001b[1;33m\u001b[0m\u001b[0m\n\u001b[0m\u001b[0;32m      2\u001b[0m     \u001b[0mprint\u001b[0m\u001b[1;33m(\u001b[0m\u001b[0mrec\u001b[0m\u001b[1;33m.\u001b[0m\u001b[0mkey\u001b[0m\u001b[1;33m(\u001b[0m\u001b[1;36m0\u001b[0m\u001b[1;33m)\u001b[0m\u001b[1;33m,\u001b[0m\u001b[1;34m\"\\t\"\u001b[0m\u001b[1;33m,\u001b[0m \u001b[0mrec\u001b[0m\u001b[1;33m.\u001b[0m\u001b[0mkey\u001b[0m\u001b[1;33m(\u001b[0m\u001b[1;36m1\u001b[0m\u001b[1;33m)\u001b[0m\u001b[1;33m,\u001b[0m\u001b[1;34m\"\\t\"\u001b[0m\u001b[1;33m,\u001b[0m\u001b[0mrec\u001b[0m\u001b[1;33m.\u001b[0m\u001b[0mlevel\u001b[0m\u001b[1;33m)\u001b[0m\u001b[1;33m\u001b[0m\u001b[1;33m\u001b[0m\u001b[0m\n",
      "\u001b[1;31mTypeError\u001b[0m: 'NoneType' object is not subscriptable"
     ]
    }
   ],
   "source": [
    "for rec in model.out_db['v']:\n",
    "    print(rec.key(0),\"\\t\", rec.key(1),\"\\t\",rec.level)"
   ]
  },
  {
   "cell_type": "code",
   "execution_count": null,
   "id": "8a96113d",
   "metadata": {},
   "outputs": [],
   "source": [
    "for rec in model.out_db['y']:\n",
    "    print(rec.key(0),\"\\t\",rec.level)"
   ]
  }
 ],
 "metadata": {
  "kernelspec": {
   "display_name": "Python [conda env:gmsjupyter] *",
   "language": "python",
   "name": "conda-env-gmsjupyter-py"
  },
  "language_info": {
   "codemirror_mode": {
    "name": "ipython",
    "version": 3
   },
   "file_extension": ".py",
   "mimetype": "text/x-python",
   "name": "python",
   "nbconvert_exporter": "python",
   "pygments_lexer": "ipython3",
   "version": "3.6.13"
  }
 },
 "nbformat": 4,
 "nbformat_minor": 5
}
