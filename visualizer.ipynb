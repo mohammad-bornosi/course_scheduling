{
 "cells": [
  {
   "cell_type": "markdown",
   "id": "43ca2fba",
   "metadata": {},
   "source": [
    "# Special thanks to https://github.com/masudakoji whose work is adapted here"
   ]
  },
  {
   "cell_type": "code",
   "execution_count": 21,
   "id": "0644bb08",
   "metadata": {},
   "outputs": [
    {
     "name": "stderr",
     "output_type": "stream",
     "text": [
      "C:\\Users\\Mohamadreza.a\\miniconda3\\envs\\gmsjupyter\\lib\\site-packages\\ipykernel_launcher.py:28: MatplotlibDeprecationWarning: Adding an axes using the same arguments as a previous axes currently reuses the earlier instance.  In a future version, a new instance will always be created and returned.  Meanwhile, this warning can be suppressed, and the future behavior ensured, by passing a unique label to each axes instance.\n"
     ]
    },
    {
     "data": {
      "image/png": "[encoded data removed]",
      "text/plain": [
       "<Figure size 720x424.08 with 3 Axes>"
      ]
     },
     "metadata": {
      "needs_background": "light"
     },
     "output_type": "display_data"
    }
   ],
   "source": [
    "#!usr/bin/env python\n",
    "#coding: utf-8\n",
    "import matplotlib.pyplot as plt\n",
    "# Asummed we have only two rooms\n",
    "rooms=['Room A','Room B']\n",
    "colors=['lightblue','lightgreen','pink', 'wheat', 'salmon']\n",
    " \n",
    "input_files=['data_02.txt']\n",
    "day_labels=['Day 1']\n",
    " \n",
    "for input_file, day_label in zip(input_files, day_labels):\n",
    "     fig=plt.figure(figsize=(10,5.89))\n",
    "     for line in open(input_file, 'r'):\n",
    "         data=line.split()\n",
    "         event=data[-1]\n",
    "         data=list(map(float, data[:-1]))\n",
    "         room=data[0]-0.48\n",
    "         start=data[1]+data[2]/60\n",
    "         end=start+data[3]/60\n",
    "         # plot event\n",
    "         plt.fill_between([room, room+0.96], [start, start], [end,end], color=colors[int(data[0]-1)], edgecolor='k', linewidth=0.5)\n",
    "         # plot beginning time\n",
    "         plt.text(room+0.02, start+0.05 ,'{0}:{1:0>2}'.format(int(data[1]),int(data[2])), va='top', fontsize=7)\n",
    "         # plot event name\n",
    "         plt.text(room+0.48, (start+end)*0.5, event, ha='center', va='center', fontsize=11)\n",
    " \n",
    "     # Set Axis\n",
    "     ax=fig.add_subplot(111)\n",
    "     ax.yaxis.grid()\n",
    "     ax.set_xlim(0.5,len(rooms)+0.5)\n",
    "     # our time intervals lies in [7.45 AM , 17 PM]    \n",
    "     ax.set_ylim(18.1, 7.5)\n",
    "     ax.set_xticks(range(1,len(rooms)+1))\n",
    "     ax.set_xticklabels(rooms)\n",
    "     ax.set_ylabel('Time')\n",
    " \n",
    "     # Set Second Axis\n",
    "     ax2=ax.twiny().twinx()\n",
    "     ax2.set_xlim(ax.get_xlim())\n",
    "     ax2.set_ylim(ax.get_ylim())\n",
    "     ax2.set_xticks(ax.get_xticks())\n",
    "     ax2.set_xticklabels(rooms)\n",
    "     ax2.set_ylabel('Time')\n",
    " \n",
    " \n",
    "     plt.title(day_label,y=1.07)\n",
    "     plt.savefig('{0}.png'.format(day_label), dpi=200)"
   ]
  },
  {
   "cell_type": "code",
   "execution_count": null,
   "id": "5745b5e2",
   "metadata": {},
   "outputs": [],
   "source": []
  },
  {
   "cell_type": "code",
   "execution_count": null,
   "id": "9782338b",
   "metadata": {},
   "outputs": [],
   "source": []
  }
 ],
 "metadata": {
  "kernelspec": {
   "display_name": "Python 3",
   "language": "python",
   "name": "python3"
  },
  "language_info": {
   "codemirror_mode": {
    "name": "ipython",
    "version": 3
   },
   "file_extension": ".py",
   "mimetype": "text/x-python",
   "name": "python",
   "nbconvert_exporter": "python",
   "pygments_lexer": "ipython3",
   "version": "3.6.13"
  }
 },
 "nbformat": 4,
 "nbformat_minor": 5
}
